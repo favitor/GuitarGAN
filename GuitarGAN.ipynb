{
  "nbformat": 4,
  "nbformat_minor": 0,
  "metadata": {
    "accelerator": "GPU",
    "colab": {
      "name": "Theano.ipynb",
      "provenance": [],
      "collapsed_sections": [],
      "toc_visible": true
    },
    "kernelspec": {
      "display_name": "Python 3",
      "name": "python3"
    }
  },
  "cells": [
    {
      "cell_type": "markdown",
      "metadata": {
        "id": "-U6mjzBV-tAR"
      },
      "source": [
        "## Data Experiment"
      ]
    },
    {
      "cell_type": "code",
      "metadata": {
        "colab": {
          "background_save": true
        },
        "id": "NdlgIzxzJHMs",
        "outputId": "65dc2a42-f4d5-4433-d5ed-f2c250f9777e"
      },
      "source": [
        "%tensorflow_version 1.x"
      ],
      "execution_count": null,
      "outputs": [
        {
          "output_type": "stream",
          "text": [
            "TensorFlow 1.x selected.\n"
          ],
          "name": "stdout"
        }
      ]
    },
    {
      "cell_type": "code",
      "metadata": {
        "colab": {
          "base_uri": "https://localhost:8080/"
        },
        "id": "WK7ADBaiIldv",
        "outputId": "e9fe8c1c-96bd-4317-eb1b-7f3bf07bd8ae"
      },
      "source": [
        "import os\n",
        "from google.colab import drive\n",
        "drive.mount('/content/drive/')"
      ],
      "execution_count": null,
      "outputs": [
        {
          "output_type": "stream",
          "text": [
            "Mounted at /content/drive/\n"
          ],
          "name": "stdout"
        }
      ]
    },
    {
      "cell_type": "code",
      "metadata": {
        "colab": {
          "base_uri": "https://localhost:8080/"
        },
        "id": "hxAbGJLA-tAZ",
        "scrolled": true,
        "outputId": "475e8ff8-f24c-4c4e-947e-610b01891711"
      },
      "source": [
        "# load, split and scale the maps dataset ready for training\n",
        "from os import listdir\n",
        "from numpy import asarray\n",
        "from numpy import vstack\n",
        "from keras.preprocessing.image import img_to_array\n",
        "from keras.preprocessing.image import load_img\n",
        "from numpy import savez_compressed\n",
        "from PIL import Image\n",
        "\n",
        "# load all images in a directory into memory\n",
        "def load_images(path):\n",
        "    img_list = list()\n",
        "    # enumerate filenames in directory, assume all are images\n",
        "    for filename in listdir(path):\n",
        "        # load and resize the image\n",
        "        pixels = load_img(path + filename)\n",
        "        pixels = pixels.resize((256,256), Image.ANTIALIAS)\n",
        "        # convert to numpy array\n",
        "        pixels = img_to_array(pixels)\n",
        "        img_list.append(pixels)\n",
        "    return [asarray(img_list)]\n",
        "\n",
        "# dataset path\n",
        "path = '/content/drive/My Drive/GuitarData/frontside/'\n",
        "path1 = '/content/drive/My Drive/GuitarData/backside/'\n",
        "# load dataset\n",
        "[src_images] = load_images(path)\n",
        "[tar_images] = load_images(path1)\n",
        "print('Loaded: ', src_images.shape, tar_images.shape)\n",
        "# save as compressed numpy array\n",
        "filename = 'guitars_256.npz'\n",
        "savez_compressed(filename, src_images, tar_images)\n",
        "print('Saved dataset: ', filename)"
      ],
      "execution_count": null,
      "outputs": [
        {
          "output_type": "stream",
          "text": [
            "Using TensorFlow backend.\n"
          ],
          "name": "stderr"
        },
        {
          "output_type": "stream",
          "text": [
            "Loaded:  (54, 256, 256, 3) (54, 256, 256, 3)\n",
            "Saved dataset:  guitars_256.npz\n"
          ],
          "name": "stdout"
        }
      ]
    },
    {
      "cell_type": "code",
      "metadata": {
        "colab": {
          "base_uri": "https://localhost:8080/"
        },
        "id": "G53ZcxBS-tAf",
        "outputId": "23524e03-2c2a-44cb-d774-04b423de3cae"
      },
      "source": [
        "# load the prepared dataset\n",
        "from numpy import load\n",
        "from matplotlib import pyplot\n",
        "# load the dataset\n",
        "guitar_data = load('guitars_256.npz')\n",
        "src_images, tar_images = guitar_data['arr_0'], guitar_data['arr_1']\n",
        "print('Loaded: ', src_images.shape, tar_images.shape)"
      ],
      "execution_count": null,
      "outputs": [
        {
          "output_type": "stream",
          "text": [
            "Loaded:  (54, 256, 256, 3) (54, 256, 256, 3)\n"
          ],
          "name": "stdout"
        }
      ]
    },
    {
      "cell_type": "code",
      "metadata": {
        "colab": {
          "base_uri": "https://localhost:8080/",
          "height": 248
        },
        "id": "AeTLhT7O-tAo",
        "outputId": "7f5cb3fe-1846-43ef-c836-15526a8f9c87"
      },
      "source": [
        "# plot source images\n",
        "n_samples = 3\n",
        "for i in range(n_samples):\n",
        "    pyplot.subplot(2, n_samples, 1 + i)\n",
        "    pyplot.axis('off')\n",
        "    pyplot.imshow(src_images[i].astype('uint8'))\n",
        "# plot target image\n",
        "for i in range(n_samples):\n",
        "    pyplot.subplot(2, n_samples, 1 + n_samples + i)\n",
        "    pyplot.axis('off')\n",
        "    pyplot.imshow(tar_images[i].astype('uint8'))\n",
        "pyplot.show()"
      ],
      "execution_count": null,
      "outputs": [
        {
          "output_type": "display_data",
          "data": {
            "image/png": "[encoded data removed]",
            "text/plain": [
              "<Figure size 432x288 with 6 Axes>"
            ]
          },
          "metadata": {
            "tags": []
          }
        }
      ]
    },
    {
      "cell_type": "markdown",
      "metadata": {
        "id": "nBsD6UPS-tAs"
      },
      "source": [
        "## Training Experiment"
      ]
    },
    {
      "cell_type": "code",
      "metadata": {
        "id": "7oPu65IT-tAt"
      },
      "source": [
        "# example of pix2pix gan for satellite to map image-to-image translation\n",
        "from numpy import load\n",
        "from numpy import zeros\n",
        "from numpy import ones\n",
        "from numpy.random import randint\n",
        "from keras.optimizers import Adam\n",
        "from keras.initializers import RandomNormal\n",
        "from keras.models import Model\n",
        "from keras.models import Input\n",
        "from keras.layers import Conv2D\n",
        "from keras.layers import Conv2DTranspose\n",
        "from keras.layers import LeakyReLU\n",
        "from keras.layers import Activation\n",
        "from keras.layers import Concatenate\n",
        "from keras.layers import Dropout\n",
        "from keras.layers import BatchNormalization\n",
        "from keras.layers import LeakyReLU\n",
        "from matplotlib import pyplot"
      ],
      "execution_count": null,
      "outputs": []
    },
    {
      "cell_type": "code",
      "metadata": {
        "id": "8M4Vv75C-tAx"
      },
      "source": [
        "# define the discriminator model\n",
        "def define_discriminator(image_shape):\n",
        "    # weight initialization\n",
        "    init = RandomNormal(stddev=0.02)\n",
        "    # source image input\n",
        "    in_src_image = Input(shape=image_shape)\n",
        "    # target image input\n",
        "    in_target_image = Input(shape=image_shape)\n",
        "    # concatenate images channel-wise\n",
        "    merged = Concatenate()([in_src_image, in_target_image])\n",
        "    # C64\n",
        "    d = Conv2D(64, (3, 3), strides=(2, 2), padding='same', kernel_initializer=init)(merged)\n",
        "    d = LeakyReLU(alpha=0.2)(d)\n",
        "    # C128\n",
        "    d = Conv2D(128, (3, 3), strides=(2, 2), padding='same', kernel_initializer=init)(d)\n",
        "    d = BatchNormalization()(d)\n",
        "    d = LeakyReLU(alpha=0.2)(d)\n",
        "    # C256\n",
        "    d = Conv2D(256, (3, 3), strides=(2, 2), padding='same', kernel_initializer=init)(d)\n",
        "    d = BatchNormalization()(d)\n",
        "    d = LeakyReLU(alpha=0.2)(d)\n",
        "    # C512\n",
        "    d = Conv2D(512, (3, 3), strides=(2, 2), padding='same', kernel_initializer=init)(d)\n",
        "    d = BatchNormalization()(d)\n",
        "    d = LeakyReLU(alpha=0.2)(d)\n",
        "    # second last output layer\n",
        "    d = Conv2D(512, (3, 3), padding='same', kernel_initializer=init)(d)\n",
        "    d = BatchNormalization()(d)\n",
        "    d = LeakyReLU(alpha=0.2)(d)\n",
        "    # patch output\n",
        "    d = Conv2D(1, (3, 3), padding='same', kernel_initializer=init)(d)\n",
        "    patch_out = Activation('sigmoid')(d)\n",
        "    # define model\n",
        "    model = Model([in_src_image, in_target_image], patch_out)\n",
        "    # compile model\n",
        "    opt = Adam(lr=0.0002, beta_1=0.5)\n",
        "    model.compile(loss='binary_crossentropy', optimizer=opt, loss_weights=[0.5])\n",
        "    return model"
      ],
      "execution_count": null,
      "outputs": []
    },
    {
      "cell_type": "code",
      "metadata": {
        "id": "K8IB63Jh-tA2"
      },
      "source": [
        "# define an encoder block\n",
        "def define_encoder_block(layer_in, n_filters, batchnorm=True):\n",
        "    # weight initialization\n",
        "    init = RandomNormal(stddev=0.02)\n",
        "    # add downsampling layer\n",
        "    g = Conv2D(n_filters, (3, 3), strides=(2, 2), padding='same', kernel_initializer=init)(layer_in)\n",
        "    # conditionally add batch normalization\n",
        "    if batchnorm:\n",
        "        g = BatchNormalization()(g, training=True)\n",
        "    # leaky relu activation\n",
        "    g = LeakyReLU(alpha=0.2)(g)\n",
        "    return g\n",
        "\n",
        "# define a decoder block\n",
        "def decoder_block(layer_in, skip_in, n_filters, dropout=True):\n",
        "    # weight initialization\n",
        "    init = RandomNormal(stddev=0.02)\n",
        "    # add upsampling layer\n",
        "    g = Conv2DTranspose(n_filters, (3, 3), strides=(2, 2), padding='same', kernel_initializer=init)(layer_in)\n",
        "    # add batch normalization\n",
        "    g = BatchNormalization()(g, training=True)\n",
        "    # conditionally add dropout\n",
        "    if dropout:\n",
        "        g = Dropout(0.5)(g, training=True)\n",
        "    # merge with skip connection\n",
        "    g = Concatenate()([g, skip_in])\n",
        "    # relu activation\n",
        "    g = Activation('relu')(g)\n",
        "    return g\n",
        "\n",
        "# define the standalone generator model\n",
        "def define_generator(image_shape=(256, 256, 3)):\n",
        "    # weight initialization\n",
        "    init = RandomNormal(stddev=0.02)\n",
        "    # image input\n",
        "    in_image = Input(shape=image_shape)\n",
        "    # encoder model\n",
        "    e1 = define_encoder_block(in_image, 64, batchnorm=False)\n",
        "    e2 = define_encoder_block(e1, 128)\n",
        "    e3 = define_encoder_block(e2, 256)\n",
        "    e4 = define_encoder_block(e3, 512)\n",
        "    e5 = define_encoder_block(e4, 512)\n",
        "    e6 = define_encoder_block(e5, 512)\n",
        "    e7 = define_encoder_block(e6, 512)\n",
        "    # bottleneck, no batch norm and relu\n",
        "    b = Conv2D(512, (3, 3), strides=(2, 2), padding='same', kernel_initializer=init)(e7)\n",
        "    b = Activation('relu')(b)\n",
        "    # decoder model\n",
        "    d1 = decoder_block(b, e7, 512)\n",
        "    d2 = decoder_block(d1, e6, 512)\n",
        "    d3 = decoder_block(d2, e5, 512)\n",
        "    d4 = decoder_block(d3, e4, 512, dropout=False)\n",
        "    d5 = decoder_block(d4, e3, 256, dropout=False)\n",
        "    d6 = decoder_block(d5, e2, 128, dropout=False)\n",
        "    d7 = decoder_block(d6, e1, 64, dropout=False)\n",
        "    # output\n",
        "    g = Conv2DTranspose(3, (3, 3), strides=(2, 2), padding='same', kernel_initializer=init)(d7)\n",
        "    out_image = Activation('tanh')(g)\n",
        "    # define model\n",
        "    model = Model(in_image, out_image)\n",
        "    return model\n",
        "\n",
        "# define the combined generator and discriminator model, for updating the generator\n",
        "def define_gan(g_model, d_model, image_shape):\n",
        "    # make weights in the discriminator not trainable\n",
        "    d_model.trainable = False\n",
        "    # define the source image\n",
        "    in_src = Input(shape=image_shape)\n",
        "    # connect the source image to the generator input\n",
        "    gen_out = g_model(in_src)\n",
        "    # connect the source input and generator output to the discriminator input\n",
        "    dis_out = d_model([in_src, gen_out])\n",
        "    # src image as input, generated image and classification output\n",
        "    model = Model(in_src, [dis_out, gen_out])\n",
        "    # compile model\n",
        "    opt = Adam(lr=0.0002, beta_1=0.5)\n",
        "    model.compile(loss=['binary_crossentropy', 'mae'], optimizer=opt, loss_weights=[1, 100])\n",
        "    return model"
      ],
      "execution_count": null,
      "outputs": []
    },
    {
      "cell_type": "code",
      "metadata": {
        "id": "JMMYDE2m-tA6"
      },
      "source": [
        "# load and prepare training images\n",
        "def load_real_samples(filename):\n",
        "    # load compressed arrays\n",
        "    data = load(filename)\n",
        "    # unpack arrays\n",
        "    X1, X2 = data['arr_0'], data['arr_1']\n",
        "    # scale from [0,255] to [-1,1]\n",
        "    X1 = (X1 - 127.5) / 127.5\n",
        "    X2 = (X2 - 127.5) / 127.5\n",
        "    return [X1, X2]\n",
        "\n",
        "# select a batch of random samples, returns images and target\n",
        "def generate_real_samples(dataset, n_samples, patch_shape):\n",
        "    # unpack dataset\n",
        "    trainA, trainB = dataset\n",
        "    # choose random instances\n",
        "    ix = randint(0, trainA.shape[0], n_samples)\n",
        "    # retrieve selected images\n",
        "    X1, X2 = trainA[ix], trainB[ix]\n",
        "    # generate 'real' class labels (1)\n",
        "    y = ones((n_samples, patch_shape, patch_shape, 1))\n",
        "    return [X1, X2], y\n",
        "\n",
        "# generate a batch of images, returns images and targets\n",
        "def generate_fake_samples(g_model, samples, patch_shape):\n",
        "    # generate fake instance\n",
        "    X = g_model.predict(samples)\n",
        "    # create 'fake' class labels (0)\n",
        "    y = zeros((len(X), patch_shape, patch_shape, 1))\n",
        "    return X, y\n",
        "\n",
        "# generate samples and save as a plot and save the model\n",
        "def summarize_performance(step, g_model, dataset, n_samples=3):\n",
        "    # select a sample of input images\n",
        "    [X_realA, X_realB], _ = generate_real_samples(dataset, n_samples, 1)\n",
        "    # generate a batch of fake samples\n",
        "    X_fakeB, _ = generate_fake_samples(g_model, X_realA, 1)\n",
        "    # scale all pixels from [-1,1] to [0,1]\n",
        "    X_realA = (X_realA + 1) / 2.0\n",
        "    X_realB = (X_realB + 1) / 2.0\n",
        "    X_fakeB = (X_fakeB + 1) / 2.0\n",
        "    # plot real source images\n",
        "    for i in range(n_samples):\n",
        "        pyplot.subplot(3, n_samples, 1 + i)\n",
        "        pyplot.axis('off')\n",
        "        pyplot.imshow(X_realA[i])\n",
        "    # plot generated target image\n",
        "    for i in range(n_samples):\n",
        "        pyplot.subplot(3, n_samples, 1 + n_samples + i)\n",
        "        pyplot.axis('off')\n",
        "        pyplot.imshow(X_fakeB[i])\n",
        "    # plot real target image\n",
        "    for i in range(n_samples):\n",
        "        pyplot.subplot(3, n_samples, 1 + n_samples*2 + i)\n",
        "        pyplot.axis('off')\n",
        "        pyplot.imshow(X_realB[i])\n",
        "    # save plot to file\n",
        "    filename1 = 'plot_%06d.png' % (step+1)\n",
        "    pyplot.savefig(filename1)\n",
        "    pyplot.close()\n",
        "    # save the generator model\n",
        "    filename2 = 'model_%06d.h5' % (step+1)\n",
        "    g_model.save(filename2)\n",
        "    print('>Saved: %s and %s' % (filename1, filename2))"
      ],
      "execution_count": null,
      "outputs": []
    },
    {
      "cell_type": "code",
      "metadata": {
        "id": "iYeZPNIw-tA-"
      },
      "source": [
        "# train pix2pix models\n",
        "def train(d_model, g_model, gan_model, dataset, n_epochs=500, n_batch=5):\n",
        "    # determine the output square shape of the discriminator\n",
        "    n_patch = d_model.output_shape[1]\n",
        "    # unpack dataset\n",
        "    trainA, trainB = dataset\n",
        "    # calculate the number of batches per training epoch\n",
        "    bat_per_epo = int(len(trainA) / n_batch)\n",
        "    # calculate the number of training iterations\n",
        "    n_steps = bat_per_epo * n_epochs\n",
        "    # manually enumerate epochs\n",
        "    for i in range(n_steps):\n",
        "        # select a batch of real samples\n",
        "        [X_realA, X_realB], y_real = generate_real_samples(dataset, n_batch, n_patch)\n",
        "        # generate a batch of fake samples\n",
        "        X_fakeB, y_fake = generate_fake_samples(g_model, X_realA, n_patch)\n",
        "        # update discriminator for real samples\n",
        "        d_loss1 = d_model.train_on_batch([X_realA, X_realB], y_real)\n",
        "        # update discriminator for generated samples\n",
        "        d_loss2 = d_model.train_on_batch([X_realA, X_fakeB], y_fake)\n",
        "        # update the generator\n",
        "        g_loss, _, _ = gan_model.train_on_batch(X_realA, [y_real, X_realB])\n",
        "        # summarize performance\n",
        "        print('>%d, d1[%.3f] d2[%.3f] g[%.3f]' % (i+1, d_loss1, d_loss2, g_loss))\n",
        "        # summarize model performance\n",
        "        if (i+1) % (bat_per_epo * 10) == 0:\n",
        "            summarize_performance(i, g_model, dataset)"
      ],
      "execution_count": null,
      "outputs": []
    },
    {
      "cell_type": "code",
      "metadata": {
        "id": "7DFFcy9B-tBC"
      },
      "source": [
        "# load image data\n",
        "dataset = load_real_samples('guitars_256.npz')\n",
        "print('Loaded', dataset[0].shape, dataset[1].shape)\n",
        "# define input shape based on the loaded dataset\n",
        "image_shape = dataset[0].shape[1:]\n",
        "# define the models\n",
        "d_model = define_discriminator(image_shape)\n",
        "g_model = define_generator(image_shape)\n",
        "# define the composite model\n",
        "gan_model = define_gan(g_model, d_model, image_shape)\n",
        "# train model\n",
        "train(d_model, g_model, gan_model, dataset, n_epochs=1000)"
      ],
      "execution_count": null,
      "outputs": []
    },
    {
      "cell_type": "code",
      "metadata": {
        "colab": {
          "base_uri": "https://localhost:8080/"
        },
        "id": "zL_FXeg2-tBJ",
        "outputId": "06ed56d6-f658-46da-f854-55196743d1b7"
      },
      "source": [
        "summarize_performance(10000, g_model, dataset)"
      ],
      "execution_count": null,
      "outputs": [
        {
          "output_type": "stream",
          "text": [
            ">Saved: plot_001801.png and model_001801.h5\n"
          ],
          "name": "stdout"
        }
      ]
    },
    {
      "cell_type": "markdown",
      "metadata": {
        "id": "mtlZy1ti-tBN"
      },
      "source": [
        "## Predicting Experiment"
      ]
    },
    {
      "cell_type": "code",
      "metadata": {
        "id": "9lrMjh_J-tBO"
      },
      "source": [
        "# example of loading a pix2pix model and using it for one-off image translation\n",
        "from keras.models import load_model\n",
        "from keras.preprocessing.image import img_to_array\n",
        "from keras.preprocessing.image import load_img\n",
        "from numpy import load\n",
        "from numpy import expand_dims\n",
        "from matplotlib import pyplot\n",
        "\n",
        "# load an image\n",
        "def load_image(filename, size=(256, 256)):\n",
        "    # load image with the preferred size\n",
        "    pixels = load_img(filename, target_size=size)\n",
        "    # convert to numpy array\n",
        "    pixels = img_to_array(pixels)\n",
        "    # scale from [0,255] to [-1,1]\n",
        "    pixels = (pixels - 127.5) / 127.5\n",
        "    # reshape to 1 sample\n",
        "    pixels = expand_dims(pixels, 0)\n",
        "    return pixels\n",
        "\n",
        "\n",
        "# load source image\n",
        "src_path = \"/content/drive/My Drive/GuitarData/frontside/000001.jpg\"\n",
        "src_image = load_image(src_path)\n",
        "print('Loaded', src_image.shape)\n",
        "pyplot.subplot(2, 1, 1)\n",
        "pyplot.imshow(load_img(src_path))\n",
        "# load model\n",
        "model = load_model('model_010000.h5')\n",
        "# generate image from source\n",
        "gen_image = model.predict(src_image)\n",
        "# scale from [-1,1] to [0,1]\n",
        "gen_image = (gen_image + 1) / 2.0\n",
        "# plot the image\n",
        "pyplot.subplot(2, 1, 2)\n",
        "pyplot.imshow(gen_image[0])\n",
        "pyplot.axis('off')\n",
        "pyplot.show()"
      ],
      "execution_count": null,
      "outputs": []
    }
  ]
}